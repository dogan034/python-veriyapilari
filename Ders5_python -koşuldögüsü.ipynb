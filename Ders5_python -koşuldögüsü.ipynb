{
  "nbformat": 4,
  "nbformat_minor": 0,
  "metadata": {
    "colab": {
      "provenance": []
    },
    "kernelspec": {
      "name": "python3",
      "display_name": "Python 3"
    },
    "language_info": {
      "name": "python"
    }
  },
  "cells": [
    {
      "cell_type": "code",
      "execution_count": 1,
      "metadata": {
        "colab": {
          "base_uri": "https://localhost:8080/"
        },
        "id": "t5zEii0MBpd-",
        "outputId": "e73e5d7e-2fa1-48d7-bf66-e9699019fb22"
      },
      "outputs": [
        {
          "output_type": "stream",
          "name": "stdout",
          "text": [
            "Merhaba, İGÜ - İSTKA / Ders 6\n"
          ]
        }
      ],
      "source": [
        "print(\"Merhaba, İGÜ - İSTKA / Ders 6\") # print ekrana çıktı veren bir koddur."
      ]
    },
    {
      "cell_type": "code",
      "source": [
        "import sys # import python programlama dilinde yazılıma kütüphane eklemeye yarayan bir kod blogudur.\n",
        "print(sys.version)"
      ],
      "metadata": {
        "colab": {
          "base_uri": "https://localhost:8080/"
        },
        "id": "_SWb1CpvB9qy",
        "outputId": "bccf63ac-5ea2-4bf3-f0b8-d4bc82494d98"
      },
      "execution_count": 2,
      "outputs": [
        {
          "output_type": "stream",
          "name": "stdout",
          "text": [
            "3.10.12 (main, Jul 29 2024, 16:56:48) [GCC 11.4.0]\n"
          ]
        }
      ]
    },
    {
      "cell_type": "code",
      "source": [
        "from google.colab import drive # google colab - drive bağlantısı\n",
        "\n",
        "drive.mount('/content/drive')"
      ],
      "metadata": {
        "colab": {
          "base_uri": "https://localhost:8080/"
        },
        "id": "a2GVm6WuCArp",
        "outputId": "39da59de-5d6a-4c19-95cb-9366d8478cad"
      },
      "execution_count": 3,
      "outputs": [
        {
          "output_type": "stream",
          "name": "stdout",
          "text": [
            "Mounted at /content/drive\n"
          ]
        }
      ]
    },
    {
      "cell_type": "code",
      "source": [
        "import os\n",
        "\n",
        "os.chdir('/content/drive/My Drive/veri-yapıları')\n",
        "\n",
        "!pwd # bize kodun çıktısını dosya yolu olarak veren kod blogudur."
      ],
      "metadata": {
        "colab": {
          "base_uri": "https://localhost:8080/"
        },
        "id": "aB8yZkxjCG1x",
        "outputId": "e5a11489-6b8a-4843-a4fe-846f0a2b99ef"
      },
      "execution_count": 6,
      "outputs": [
        {
          "output_type": "stream",
          "name": "stdout",
          "text": [
            "/content/drive/My Drive/veri-yapıları\n"
          ]
        }
      ]
    },
    {
      "cell_type": "code",
      "source": [
        "# 1 ile 100 arasındaki sayılardan 7'ye bölünenleri bulan Python kodu\n",
        "Sayi_dizisi = []\n",
        "Sayi_dizisi2 = []\n",
        "sayi = 1\n",
        "\n",
        "while sayi <= 100:\n",
        "    if sayi % 7 == 0:\n",
        "        Sayi_dizisi.append(sayi)\n",
        "    elif sayi % 7 != 0:\n",
        "         Sayi_dizisi2.append(sayi)\n",
        "    sayi += 1\n",
        "\n",
        "# Sonucu ekrana yazdır\n",
        "print(\"1 ile 100 arasındaki 7'ye bölünen sayılar:\", Sayi_dizisi)\n",
        "print(\"Toplam bölünen sayı adeti: \", len(Sayi_dizisi))\n",
        "\n",
        "print(\"1 ile 100 arasındaki 7'ye bölünmeyen sayılar:\", Sayi_dizisi2)\n",
        "print(\"Toplam bölünmeyen sayı adeti: \", len(Sayi_dizisi2))\n",
        "\n"
      ],
      "metadata": {
        "colab": {
          "base_uri": "https://localhost:8080/"
        },
        "id": "lTg1ozIPCNfq",
        "outputId": "225334f3-5dcf-4344-fc85-2845ebdf0046"
      },
      "execution_count": 14,
      "outputs": [
        {
          "output_type": "stream",
          "name": "stdout",
          "text": [
            "1 ile 100 arasındaki 7'ye bölünen sayılar: [7, 14, 21, 28, 35, 42, 49, 56, 63, 70, 77, 84, 91, 98]\n",
            "Toplam bölünen sayı adeti:  14\n",
            "1 ile 100 arasındaki 7'ye bölünmeyen sayılar: [1, 2, 3, 4, 5, 6, 8, 9, 10, 11, 12, 13, 15, 16, 17, 18, 19, 20, 22, 23, 24, 25, 26, 27, 29, 30, 31, 32, 33, 34, 36, 37, 38, 39, 40, 41, 43, 44, 45, 46, 47, 48, 50, 51, 52, 53, 54, 55, 57, 58, 59, 60, 61, 62, 64, 65, 66, 67, 68, 69, 71, 72, 73, 74, 75, 76, 78, 79, 80, 81, 82, 83, 85, 86, 87, 88, 89, 90, 92, 93, 94, 95, 96, 97, 99, 100]\n",
            "Toplam bölünmeyen sayı adeti:  86\n"
          ]
        }
      ]
    },
    {
      "cell_type": "code",
      "source": [
        "# Girilen iki kodun hangisinin büyük olduğunu bulan ve sayı dışında girilen karakterin hatalı olduğu bildiren kod blogudur.\n",
        "\n",
        "while True:\n",
        "    try:\n",
        "        gelen1 = float(input(\"Birinci sayıyı girin: \"))\n",
        "        gelen2 = float(input(\"İkinci sayıyı girin: \"))\n",
        "\n",
        "        if gelen1 > gelen2:\n",
        "            print(\"İlk sayı büyüktür\")\n",
        "        elif gelen1 < gelen2:\n",
        "            print(\"İkinci sayı büyüktür\")\n",
        "        else:\n",
        "            print(\"Sayilar birbirine eşittir\")\n",
        "\n",
        "        break\n",
        "    except ValueError:\n",
        "        print(\"Lütfen geçerli bir sayı girin.\")"
      ],
      "metadata": {
        "colab": {
          "base_uri": "https://localhost:8080/"
        },
        "id": "PJ4ozSXRG92I",
        "outputId": "f1fdfc26-4a36-4de0-eeaf-472015743d53"
      },
      "execution_count": 32,
      "outputs": [
        {
          "output_type": "stream",
          "name": "stdout",
          "text": [
            "Birinci sayıyı girin: 20\n",
            "İkinci sayıyı girin: 10\n",
            "İlk sayı büyüktür\n"
          ]
        }
      ]
    },
    {
      "cell_type": "code",
      "source": [
        "# Kullanıcıdan alınan sayıya kadar 1'den başlayarak faktöreyel hesabının yapılmasıdır.\n",
        "\n",
        "while True:\n",
        "    try:\n",
        "        sayi = int(input(\"Bir sayı girin: \"))\n",
        "        if sayi < 0:\n",
        "            print(\"Negatif sayıların faktöriyeli hesaplanamaz.\")\n",
        "        elif sayi == 0 or sayi == 1:\n",
        "            print(1)\n",
        "        else:\n",
        "            sonuc = 1\n",
        "            while sayi > 1:\n",
        "                sonuc *= sayi\n",
        "                sayi -= 1\n",
        "            print(sonuc)\n",
        "        break\n",
        "    except ValueError:\n",
        "        print(\"Lütfen geçerli bir tam sayı girin.\")"
      ],
      "metadata": {
        "colab": {
          "base_uri": "https://localhost:8080/"
        },
        "id": "pssXWzqJM2fN",
        "outputId": "1f89cbd5-1c77-4e87-cf21-fa5fab233e4f"
      },
      "execution_count": 40,
      "outputs": [
        {
          "output_type": "stream",
          "name": "stdout",
          "text": [
            "Bir sayı girin: 21\n",
            "51090942171709440000\n"
          ]
        }
      ]
    },
    {
      "cell_type": "code",
      "source": [
        "# Kullanıcıdan başlangıç değeri al\n",
        "while True:\n",
        "    try:\n",
        "        baslangic_degeri = int(input(\"Başlangıç değerini girin: \"))\n",
        "        if baslangic_degeri < 0:\n",
        "            baslangic_degeri = abs(baslangic_degeri)\n",
        "            print(f\"Negatif değer girdiniz, pozitif olarak alındı: {baslangic_degeri}\")\n",
        "        break\n",
        "    except ValueError:\n",
        "        print(\"Lütfen geçerli bir tam sayı girin.\")\n",
        "\n",
        "# Kullanıcıdan son değer al\n",
        "while True:\n",
        "    try:\n",
        "        bitis_degeri = int(input(\"Bitiş değerini girin: \"))\n",
        "        if bitis_degeri < 0:\n",
        "            bitis_degeri = abs(bitis_degeri)\n",
        "            print(f\"Negatif değer girdiniz, pozitif olarak alındı: {bitis_degeri}\")\n",
        "        break\n",
        "    except ValueError:\n",
        "        print(\"Lütfen geçerli bir tam sayı girin.\")\n",
        "\n",
        "# Başlangıç ve bitiş değerleri arasında çift sayıları bul ve topla\n",
        "cift_sayilar = []\n",
        "cift_sayilarin_toplami = 0\n",
        "sayi = baslangic_degeri\n",
        "\n",
        "while sayi <= bitis_degeri:\n",
        "    if sayi % 2 == 0:\n",
        "        cift_sayilar.append(sayi)\n",
        "        cift_sayilarin_toplami += sayi\n",
        "    sayi += 1\n",
        "\n",
        "# Elde edilen çift sayıları ve toplamlarını ekrana yazdır\n",
        "print(f\"{baslangic_degeri} ile {bitis_degeri} arasındaki çift sayılar:\")\n",
        "for num in cift_sayilar:\n",
        "    print(num, end=\" \")\n",
        "\n",
        "print(f\"\\nÇift sayıların toplamı: {cift_sayilarin_toplami}\")"
      ],
      "metadata": {
        "colab": {
          "base_uri": "https://localhost:8080/"
        },
        "id": "63KrkWFFUn3O",
        "outputId": "088c4462-3991-45f9-e115-d28285a01111"
      },
      "execution_count": 43,
      "outputs": [
        {
          "output_type": "stream",
          "name": "stdout",
          "text": [
            "Başlangıç değerini girin: 10\n",
            "Bitiş değerini girin: 60\n",
            "10 ile 60 arasındaki çift sayılar:\n",
            "10 12 14 16 18 20 22 24 26 28 30 32 34 36 38 40 42 44 46 48 50 52 54 56 58 60 \n",
            "Çift sayıların toplamı: 910\n"
          ]
        }
      ]
    },
    {
      "cell_type": "code",
      "source": [
        "# Önceden tanımlalan sesli harf listesinde girilen metnin karşılaştırılması yapılarak sesli ve sessiz harf kontrolünün yapımı\n",
        "sesli_harfler = 'aeıioöuüAEIİOÖUÜ'\n",
        "\n",
        "kelime = input(\"Bir kelime girin: \") # Kullanıcıdan bir kelime al\n",
        "\n",
        "# Sesli ve sessiz harf sayısını hesapla\n",
        "sesli_harf_sayisi = 0\n",
        "sessiz_harf_sayisi = 0\n",
        "\n",
        "'''\n",
        "isalpha() ile bir stringde yalnızca harf olup olmadığını kontrol etmek için kullanılır.\n",
        "\n",
        "Aşağıdaki kod blogunda geçen \"isalpha\" harf dışı bir karakter ile karşılaşınca \"false\" döndürmektedir.\n",
        "'''\n",
        "\n",
        "for harf in kelime:\n",
        "    if harf.isalpha():  # Sadece harfleri kontrol et\n",
        "        if harf in sesli_harfler:\n",
        "            sesli_harf_sayisi += 1\n",
        "        else:\n",
        "            sessiz_harf_sayisi += 1\n",
        "\n",
        "# Sonuçları ekrana yazdır\n",
        "print(kelime, \"kelimesinde\" , sesli_harf_sayisi , \"adet sesli harf ve\", sessiz_harf_sayisi, \"sessiz harf vardır.\")"
      ],
      "metadata": {
        "colab": {
          "base_uri": "https://localhost:8080/"
        },
        "id": "-bRKtHsVbszO",
        "outputId": "af76a7f0-fa84-4a70-8258-33b7680bd422"
      },
      "execution_count": 44,
      "outputs": [
        {
          "output_type": "stream",
          "name": "stdout",
          "text": [
            "Bir kelime girin: adalet\n",
            "adalet kelimesinde 3 adet sesli harf ve 3 sessiz harf vardır.\n"
          ]
        }
      ]
    }
  ]
}