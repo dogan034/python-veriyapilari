{
  "nbformat": 4,
  "nbformat_minor": 0,
  "metadata": {
    "colab": {
      "provenance": []
    },
    "kernelspec": {
      "name": "python3",
      "display_name": "Python 3"
    },
    "language_info": {
      "name": "python"
    }
  },
  "cells": [
    {
      "cell_type": "code",
      "execution_count": 1,
      "metadata": {
        "colab": {
          "base_uri": "https://localhost:8080/"
        },
        "id": "9u_NWyrqo1f-",
        "outputId": "2e06f39a-08f8-4589-f4e4-3e43e8f8048a"
      },
      "outputs": [
        {
          "output_type": "stream",
          "name": "stdout",
          "text": [
            "Merhaba, İGÜ - İSTKA/ Ders 2\n"
          ]
        }
      ],
      "source": [
        "print(\"Merhaba, İGÜ - İSTKA/ Ders 2\")# print ekrana çıktı veren bir koddur."
      ]
    },
    {
      "cell_type": "code",
      "source": [
        "import sys # import python programlama dilinde yazılıma kütüphane eklmeye yarayan bir kod bloğ\n",
        "print(sys.version)"
      ],
      "metadata": {
        "colab": {
          "base_uri": "https://localhost:8080/"
        },
        "id": "UDprrPv0pojg",
        "outputId": "86a2523b-243e-4097-b17b-890051f1d877"
      },
      "execution_count": 4,
      "outputs": [
        {
          "output_type": "stream",
          "name": "stdout",
          "text": [
            "3.10.12 (main, Jul 29 2024, 16:56:48) [GCC 11.4.0]\n"
          ]
        }
      ]
    },
    {
      "cell_type": "code",
      "source": [
        "from  google.colab import drive # google colab - drive bağlantısı\n",
        "\n",
        "drive.mount('/content/drive')"
      ],
      "metadata": {
        "colab": {
          "base_uri": "https://localhost:8080/"
        },
        "id": "IZF4n4d7p4XP",
        "outputId": "5ab620e8-bcdd-4dde-facc-bfd0121882a7"
      },
      "execution_count": 8,
      "outputs": [
        {
          "output_type": "stream",
          "name": "stdout",
          "text": [
            "Mounted at /content/drive\n"
          ]
        }
      ]
    },
    {
      "cell_type": "code",
      "source": [
        "\n",
        "import os\n",
        "\n",
        "os.chdir('/content/drive/My Drive/veri-yapıları')\n",
        "\n",
        "!pwd # bize kodun çıktısını dosya yolu olarak veren kod blogudur."
      ],
      "metadata": {
        "colab": {
          "base_uri": "https://localhost:8080/"
        },
        "id": "AW5IyBJXqrMo",
        "outputId": "fffdab6b-3efb-4d1f-abd4-62cec2594fc4"
      },
      "execution_count": 14,
      "outputs": [
        {
          "output_type": "stream",
          "name": "stdout",
          "text": [
            "/content/drive/My Drive/veri-yapıları\n"
          ]
        }
      ]
    },
    {
      "cell_type": "code",
      "source": [
        "#Geçerli değişken tanımlaması\n",
        "degisken_1=10\n",
        "degisken2=20\n",
        "_degisken3=30"
      ],
      "metadata": {
        "id": "85M8dTxZwTFl"
      },
      "execution_count": 15,
      "outputs": []
    },
    {
      "cell_type": "code",
      "source": [
        "#Geçersiz değişken tanımlaması\n",
        "1degisken=40\n",
        "degisken-4=50"
      ],
      "metadata": {
        "colab": {
          "base_uri": "https://localhost:8080/",
          "height": 106
        },
        "id": "vgZwRkGfwvPP",
        "outputId": "0ab50c05-8991-4a57-c873-05b444cfbe10"
      },
      "execution_count": 16,
      "outputs": [
        {
          "output_type": "error",
          "ename": "SyntaxError",
          "evalue": "invalid decimal literal (<ipython-input-16-f25650424e3e>, line 2)",
          "traceback": [
            "\u001b[0;36m  File \u001b[0;32m\"<ipython-input-16-f25650424e3e>\"\u001b[0;36m, line \u001b[0;32m2\u001b[0m\n\u001b[0;31m    1degisken=40\u001b[0m\n\u001b[0m    ^\u001b[0m\n\u001b[0;31mSyntaxError\u001b[0m\u001b[0;31m:\u001b[0m invalid decimal literal\n"
          ]
        }
      ]
    },
    {
      "cell_type": "code",
      "source": [
        "#Değişken tanımlama işlemi\n",
        "\n",
        "x = 5\n",
        "y = \"Merhaba Dünya\"\n",
        "\n",
        "print(x)\n",
        "print(y)"
      ],
      "metadata": {
        "colab": {
          "base_uri": "https://localhost:8080/"
        },
        "id": "QMdVgyb6w9Z5",
        "outputId": "6da8b343-d70d-4ee4-ba74-b9f826e6b4f9"
      },
      "execution_count": 17,
      "outputs": [
        {
          "output_type": "stream",
          "name": "stdout",
          "text": [
            "5\n",
            "Merhaba Dünya\n"
          ]
        }
      ]
    },
    {
      "cell_type": "code",
      "source": [
        "# integer - Tamsayı tanımlaması\n",
        "\n",
        "a = 10\n",
        "print(type(a))"
      ],
      "metadata": {
        "colab": {
          "base_uri": "https://localhost:8080/"
        },
        "id": "T7brp6YK535E",
        "outputId": "abf6222e-4852-46d6-fd69-d7da88849186"
      },
      "execution_count": 18,
      "outputs": [
        {
          "output_type": "stream",
          "name": "stdout",
          "text": [
            "<class 'int'>\n"
          ]
        }
      ]
    },
    {
      "cell_type": "code",
      "source": [
        "# float - Ondalıklı Sayı Tanımlması\n",
        "\n",
        "b = 20.5\n",
        "print(type(b))"
      ],
      "metadata": {
        "colab": {
          "base_uri": "https://localhost:8080/"
        },
        "id": "2O3nWDSD6Rk1",
        "outputId": "151dc8f5-3ed0-4c0e-8b8a-258d0833fa55"
      },
      "execution_count": 19,
      "outputs": [
        {
          "output_type": "stream",
          "name": "stdout",
          "text": [
            "<class 'float'>\n"
          ]
        }
      ]
    },
    {
      "cell_type": "code",
      "source": [
        "# int'ten float'a çevrimin gerçekleştirilmesi\n",
        "x = 10\n",
        "y = float(x)\n",
        "print(y, type(y))"
      ],
      "metadata": {
        "colab": {
          "base_uri": "https://localhost:8080/"
        },
        "id": "R1VpbrRI6hAe",
        "outputId": "dfed0440-bb72-43d2-a19e-1d91ca1dcb99"
      },
      "execution_count": 20,
      "outputs": [
        {
          "output_type": "stream",
          "name": "stdout",
          "text": [
            "10.0 <class 'float'>\n"
          ]
        }
      ]
    },
    {
      "cell_type": "code",
      "source": [
        "# float'tan int'e çevrimin gerçekleştirilmesi\n",
        "a = 12.34\n",
        "b = int(a)\n",
        "print(b, type(b))"
      ],
      "metadata": {
        "colab": {
          "base_uri": "https://localhost:8080/"
        },
        "id": "e_6nWV4b62Dv",
        "outputId": "91de2c31-9c1c-493f-87ec-876a6fd95ee4"
      },
      "execution_count": 21,
      "outputs": [
        {
          "output_type": "stream",
          "name": "stdout",
          "text": [
            "12 <class 'int'>\n"
          ]
        }
      ]
    },
    {
      "cell_type": "code",
      "source": [
        "# string - Metinsel içerik tanımlaması\n",
        "c = \"Python Programlama\"\n",
        "print(c)\n",
        "print(type(c))"
      ],
      "metadata": {
        "colab": {
          "base_uri": "https://localhost:8080/"
        },
        "id": "Qn6ZK--J7SWa",
        "outputId": "bf638fec-d460-4280-84fe-970ec81bd31d"
      },
      "execution_count": 22,
      "outputs": [
        {
          "output_type": "stream",
          "name": "stdout",
          "text": [
            "Python Programlama\n",
            "<class 'str'>\n"
          ]
        }
      ]
    },
    {
      "cell_type": "code",
      "source": [
        "\n",
        "# Boolean (True - False) - Doğru / Yanlış tanımlaması\n",
        "\n",
        "d = True\n",
        "e = False\n",
        "print(d)\n",
        "print(type(e))"
      ],
      "metadata": {
        "colab": {
          "base_uri": "https://localhost:8080/"
        },
        "id": "M0jX8t667tj6",
        "outputId": "8f58ea46-6a0e-4f5a-b8a4-091a20cb82f1"
      },
      "execution_count": 23,
      "outputs": [
        {
          "output_type": "stream",
          "name": "stdout",
          "text": [
            "True\n",
            "<class 'bool'>\n"
          ]
        }
      ]
    },
    {
      "cell_type": "code",
      "source": [
        "\n",
        "# List - Liste tanımlaması\n",
        "\n",
        "liste = [1, 2, 3, 4, 5]\n",
        "print(type(liste))\n",
        "print(liste)\n"
      ],
      "metadata": {
        "colab": {
          "base_uri": "https://localhost:8080/"
        },
        "id": "3PmhWBJy78Pr",
        "outputId": "fbdf8544-3461-4682-ea9f-f20a11b612fb"
      },
      "execution_count": 29,
      "outputs": [
        {
          "output_type": "stream",
          "name": "stdout",
          "text": [
            "<class 'list'>\n",
            "[1, 2, 3, 4, 5]\n"
          ]
        }
      ]
    },
    {
      "cell_type": "code",
      "source": [
        "\n",
        "# Tuple - Demet tanımlaması\n",
        "\n",
        "demet = (1, 2, 3, 4, 5)\n",
        "print(type(demet))\n",
        "print(demet)"
      ],
      "metadata": {
        "colab": {
          "base_uri": "https://localhost:8080/"
        },
        "id": "lIsOWFvO-jMr",
        "outputId": "3ec0b37c-3798-4060-fc7d-73565ba3546f"
      },
      "execution_count": 30,
      "outputs": [
        {
          "output_type": "stream",
          "name": "stdout",
          "text": [
            "<class 'tuple'>\n",
            "(1, 2, 3, 4, 5)\n"
          ]
        }
      ]
    },
    {
      "cell_type": "markdown",
      "source": [
        "\n",
        "Dictionary - Sözlük Nedir?\n",
        "\n",
        "1 -Sözlükler, anahtar-değer (key-value) çiftlerini depolayan veri yapılarıdır.\n",
        "2 -Her anahtar benzersizdir ve bir değere karşılık gelir.\n",
        "3- Sözlükler sırasızdır ve değiştirilebilir.\n",
        "Sözlük Metotları\n",
        "\n",
        "1- keys(): Sözlüğün anahtarlarını döner.\n",
        "2- values(): Sözlüğün değerlerini döner.\n",
        "3- items(): Sözlüğün anahtar-değer çiftlerini döner."
      ],
      "metadata": {
        "id": "0D1FKAvnAlqg"
      }
    },
    {
      "cell_type": "code",
      "source": [
        "# Dictionary - Sözlük Örneği -> Öğrencilerin notlarını tutan bir sözlük\n",
        "notlar = {\n",
        "    \"Ali\": 85,\n",
        "    \"Veli\": 90,\n",
        "    \"Ayşe\": 78\n",
        "}\n",
        "\n",
        "notlar[\"Fatma\"] = 92 # Yeni öğrenci ekleme\n",
        "\n",
        "notlar[\"Ali\"] = 88 # Bir öğrencinin notunu güncelleme\n",
        "\n",
        "print(notlar)"
      ],
      "metadata": {
        "colab": {
          "base_uri": "https://localhost:8080/"
        },
        "id": "vT_T2mLyAPRH",
        "outputId": "36be6287-bc37-412c-998e-e500d77f9059"
      },
      "execution_count": 31,
      "outputs": [
        {
          "output_type": "stream",
          "name": "stdout",
          "text": [
            "{'Ali': 88, 'Veli': 90, 'Ayşe': 78, 'Fatma': 92}\n"
          ]
        }
      ]
    },
    {
      "cell_type": "code",
      "source": [
        "print(notlar.keys())    # dict_keys(['isim', 'yas', 'meslek'])\n",
        "print(notlar.values())  # dict_values(['Ahmet', 26, 'Mühendis'])\n",
        "print(notlar.items())   # dict_items([('isim', 'Ahmet'), ('yas', 26), ('meslek', 'Mühendis')])"
      ],
      "metadata": {
        "colab": {
          "base_uri": "https://localhost:8080/"
        },
        "id": "UHqFW_DSBS5S",
        "outputId": "579a2066-a974-462c-ca2d-fb30c697d7a8"
      },
      "execution_count": 32,
      "outputs": [
        {
          "output_type": "stream",
          "name": "stdout",
          "text": [
            "dict_keys(['Ali', 'Veli', 'Ayşe', 'Fatma'])\n",
            "dict_values([88, 90, 78, 92])\n",
            "dict_items([('Ali', 88), ('Veli', 90), ('Ayşe', 78), ('Fatma', 92)])\n"
          ]
        }
      ]
    },
    {
      "cell_type": "markdown",
      "source": [
        "Set - Küme Nedir?\n",
        "\n",
        "1- Kümeler, benzersiz elemanlardan oluşan sırasız koleksiyonlardır.\n",
        "2- Kümeler değiştirilebilir ve tekrarlayan eleman içermez.\n",
        "Küme Metotları\n",
        "\n",
        "1- add(): Küme içerisine eleman ekler.\n",
        "2- remove(): Küme içerisinden eleman siler.\n",
        "3- union(): İki kümenin birleşimini döner.\n",
        "4- intersection(): İki kümenin kesişimini döner.\n",
        "5- difference(): İki kümenin farkını döner."
      ],
      "metadata": {
        "id": "94Jh8EV1Bx0i"
      }
    },
    {
      "cell_type": "code",
      "source": [
        "# Set - Küme Örneği -> Bir yazılım etkinliğine katılan kişilerin oluşturduğu kümeler\n",
        "kodyazanlar = {\"Ahmet\", \"Mehmet\", \"Ayşe\"}\n",
        "kodyazmayanlar = {\"Ayşe\", \"Fatma\", \"Veli\"}\n",
        "\n",
        "# Kafasına Göre Takılan Öğrenciler\n",
        "ortak = kodyazanlar.intersection(kodyazmayanlar)\n",
        "print(\"Kafasına Göre Takılan Öğrencilerin Listesi:\", ortak)\n",
        "\n",
        "# Etkinlikte Kod Çalışması Yapmayan Öğrencilerin Tespiti\n",
        "Kod_yazmayan = kodyazmayanlar.difference(kodyazanlar)\n",
        "print(\"Kod çalışması yapmayan öğrenci listesi:\", Kod_yazmayan)\n",
        "\n",
        "# Yazılım Eğitiminin Öğrenci İmza Listesi\n",
        "imza_listesi = kodyazanlar.union(kodyazmayanlar)\n",
        "print(\"Etkinlik katılımcıları:\", imza_listesi)\n",
        ""
      ],
      "metadata": {
        "colab": {
          "base_uri": "https://localhost:8080/"
        },
        "id": "vcc1TbDWB9qp",
        "outputId": "2b493886-4950-4ad9-98e9-dcc8f6b35694"
      },
      "execution_count": 33,
      "outputs": [
        {
          "output_type": "stream",
          "name": "stdout",
          "text": [
            "Kafasına Göre Takılan Öğrencilerin Listesi: {'Ayşe'}\n",
            "Kod çalışması yapmayan öğrenci listesi: {'Fatma', 'Veli'}\n",
            "Etkinlik katılımcıları: {'Ayşe', 'Mehmet', 'Fatma', 'Ahmet', 'Veli'}\n"
          ]
        }
      ]
    },
    {
      "cell_type": "code",
      "source": [
        "\n",
        "giris = input(\"Bir sayı girin: \")\n",
        "try:\n",
        "    num = float(giris)\n",
        "    print(f\"Girilen sayı: {num}, tipi: {type(num)},\", abs(num))\n",
        "except ValueError:\n",
        "    print(\"Geçersiz veri girdiniz.\")\n",
        ""
      ],
      "metadata": {
        "colab": {
          "base_uri": "https://localhost:8080/"
        },
        "id": "4zgxxOqZGHOJ",
        "outputId": "ff64791c-3dd7-497c-c40f-c3c9c2ee95f1"
      },
      "execution_count": 35,
      "outputs": [
        {
          "output_type": "stream",
          "name": "stdout",
          "text": [
            "Bir sayı girin: 000\n",
            "Girilen sayı: 0.0, tipi: <class 'float'>, 0.0\n"
          ]
        }
      ]
    },
    {
      "cell_type": "code",
      "source": [
        " # 0 ile 1 arasında rastgele bir ondalık sayı üretir\n",
        "\n",
        "import random\n",
        "\n",
        "rastgele_float = random.random()\n",
        "print(\"Rastgele Deger:\", rastgele_float)"
      ],
      "metadata": {
        "colab": {
          "base_uri": "https://localhost:8080/"
        },
        "id": "m1PMXT9iGMrJ",
        "outputId": "9ee8474b-8793-4612-f56a-ce37777a4745"
      },
      "execution_count": 36,
      "outputs": [
        {
          "output_type": "stream",
          "name": "stdout",
          "text": [
            "Rastgele Deger: 0.19170142092535336\n"
          ]
        }
      ]
    },
    {
      "cell_type": "code",
      "source": [
        "\n",
        "# 1 ile 10 arasında (her iki sınır dahil) rastgele bir tam sayı üretir\n",
        "\n",
        "import random\n",
        "\n",
        "rastgele_sayi = random.randint(1, 10)\n",
        "print(\"Rastgele Deger:\", rastgele_sayi)"
      ],
      "metadata": {
        "colab": {
          "base_uri": "https://localhost:8080/"
        },
        "id": "gWo_sA83GWZB",
        "outputId": "ed0a2160-da3c-442b-85c6-d452ea634a6a"
      },
      "execution_count": 37,
      "outputs": [
        {
          "output_type": "stream",
          "name": "stdout",
          "text": [
            "Rastgele Deger: 3\n"
          ]
        }
      ]
    }
  ]
}